{
  "nbformat": 4,
  "nbformat_minor": 0,
  "metadata": {
    "colab": {
      "name": "Task3.ipynb",
      "provenance": [],
      "authorship_tag": "ABX9TyPJNTKZDn6mBc/iifO+YVge",
      "include_colab_link": true
    },
    "kernelspec": {
      "name": "python3",
      "display_name": "Python 3"
    }
  },
  "cells": [
    {
      "cell_type": "markdown",
      "metadata": {
        "id": "view-in-github",
        "colab_type": "text"
      },
      "source": [
        "<a href=\"https://colab.research.google.com/github/rubina2015/AI_LAB/blob/main/Task3.ipynb\" target=\"_parent\"><img src=\"https://colab.research.google.com/assets/colab-badge.svg\" alt=\"Open In Colab\"/></a>"
      ]
    },
    {
      "cell_type": "code",
      "metadata": {
        "id": "2ZWKQA5obEZf"
      },
      "source": [
        ""
      ],
      "execution_count": null,
      "outputs": []
    },
    {
      "cell_type": "code",
      "metadata": {
        "id": "CLeUr7UOif9T"
      },
      "source": [
        ""
      ],
      "execution_count": null,
      "outputs": []
    },
    {
      "cell_type": "code",
      "metadata": {
        "id": "7Emhn6cThpbe"
      },
      "source": [
        "course_name = []\r\n",
        "course_code = []\r\n"
      ],
      "execution_count": 1,
      "outputs": []
    },
    {
      "cell_type": "code",
      "metadata": {
        "colab": {
          "base_uri": "https://localhost:8080/"
        },
        "id": "43cbLJXbiiYc",
        "outputId": "5b57e415-b5c1-42b8-bd11-f1788fd68b0b"
      },
      "source": [
        "def navBar() :\r\n",
        "  print(\"         This is Dashboard      \")\r\n",
        "  print(\"|---------------------------------|\")\r\n",
        "  print(\"|--------------- Menu -----------------|\")\r\n",
        "  print(\"|--------------------------------------|\")\r\n",
        "  print(\"        show  registerd course\")\r\n",
        "  print(\"          Add course\")\r\n",
        "  print('          remove course')\r\n",
        "\r\n",
        "navBar()\r\n",
        "show_your_registerd_course()"
      ],
      "execution_count": 19,
      "outputs": [
        {
          "output_type": "stream",
          "text": [
            "         This is Dashboard      \n",
            "|---------------------------------|\n",
            "|--------------- Menu -----------------|\n",
            "|--------------------------------------|\n",
            "        show  registerd course\n",
            "          Add course\n",
            "          remove course\n",
            "\n",
            "\n",
            "ID ---  Course Name --- Course Code\n",
            "1 --- AI Lab --- CSE 413\n"
          ],
          "name": "stdout"
        }
      ]
    },
    {
      "cell_type": "code",
      "metadata": {
        "id": "oGD1z6TDkINL"
      },
      "source": [
        "def show_your_registerd_course():\r\n",
        "  print()\r\n",
        "  if len(course_code) == 0:\r\n",
        "    print(\"No course in your list\")\r\n",
        "  else:\r\n",
        "    print(\"\\nID ---  Course Name --- Course Code\")\r\n",
        "    for id, course in enumerate(course_name):\r\n",
        "      print(f\"{id+1} --- {course} --- {course_code[id]}\")"
      ],
      "execution_count": 8,
      "outputs": []
    },
    {
      "cell_type": "code",
      "metadata": {
        "id": "Yqc6lMpjk9EB"
      },
      "source": [
        "def add_course(code, name):\r\n",
        "  course_code.append(code)\r\n",
        "  course_name.append(name)\r\n",
        "  show_your_registerd_course()"
      ],
      "execution_count": 9,
      "outputs": []
    },
    {
      "cell_type": "code",
      "metadata": {
        "id": "Db9dJ6wUlGbO"
      },
      "source": [
        "def remove_course(index):\r\n",
        "  course_code.pop(index)\r\n",
        "  course_name.pop(index)\r\n",
        "  show_your_registerd_course()"
      ],
      "execution_count": 10,
      "outputs": []
    },
    {
      "cell_type": "code",
      "metadata": {
        "colab": {
          "base_uri": "https://localhost:8080/"
        },
        "id": "gHLyM5nPlQTy",
        "outputId": "bf535f17-6235-4b54-d328-4f9282d0c1ca"
      },
      "source": [
        "def main_page():\r\n",
        "  choice = int(input(\"Enter your choice: \"))\r\n",
        "  if choice == 1:\r\n",
        "    show_your_registerd_course()\r\n",
        "  elif choice == 2:\r\n",
        "    name = input(\"Enter course name: \")\r\n",
        "    code = input(\"Enter course code: \")\r\n",
        "    add_course(code, name)\r\n",
        "  elif choice == 3:\r\n",
        "    index = int(input(\"Enter course id: \"))\r\n",
        "    remove_course(index-1)\r\n",
        "  else:\r\n",
        "    print(\"Please insert a valid Input.\")\r\n",
        "    main_page()\r\n",
        "main_page()"
      ],
      "execution_count": 20,
      "outputs": [
        {
          "output_type": "stream",
          "text": [
            "Enter your choice: 2\n",
            "Enter course name: AI\n",
            "Enter course code: CSE 412\n",
            "\n",
            "\n",
            "ID ---  Course Name --- Course Code\n",
            "1 --- AI Lab --- CSE 413\n",
            "2 --- AI --- CSE 412\n"
          ],
          "name": "stdout"
        }
      ]
    }
  ]
}